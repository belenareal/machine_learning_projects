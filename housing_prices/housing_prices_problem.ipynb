{
 "cells": [
  {
   "cell_type": "markdown",
   "metadata": {},
   "source": [
    "## Housing Prices problem"
   ]
  },
  {
   "cell_type": "markdown",
   "metadata": {},
   "source": [
    "* Description:\n",
    "\n",
    "A simple yet challenging project, to predict the housing price based on certain factors like house area, bedrooms, furnished, nearness to mainroad, etc. The dataset is small yet, it's complexity arises due to the fact that it has strong multicollinearity. Can you overcome these obstacles & build a decent predictive model?\n",
    "\n",
    "* Objective:\n",
    "\n",
    "1. Understand the Dataset & cleanup (if required).\n",
    "2. Build Regression models to predict the sales w.r.t a single & multiple feature.\n",
    "3. Also evaluate the models & compare thier respective scores like R2, RMSE, etc."
   ]
  },
  {
   "cell_type": "markdown",
   "metadata": {},
   "source": [
    "-------------------\n",
    "* Descripción:\n",
    "\n",
    "Un proyecto simple pero desafiante, para predecir el precio de la vivienda en función de ciertos factores como el área de la casa, los dormitorios, el mobiliario, la proximidad a la carretera principal, etc. El conjunto de datos es pequeño pero su complejidad surge debido al hecho de que tiene una fuerte multicolinealidad. ¿Podrás superar estos obstáculos y construir un modelo predictivo decente?\n",
    "\n",
    "* Objetivo:\n",
    "\n",
    "1. Comprenda el conjunto de datos y la limpieza (si es necesario).\n",
    "2. Cree modelos de regresión para predecir las ventas con una característica única y múltiple.\n",
    "3. Evalúe también los modelos y compare sus puntuaciones respectivas como R2, RMSE, etc."
   ]
  }
 ],
 "metadata": {
  "language_info": {
   "name": "python"
  }
 },
 "nbformat": 4,
 "nbformat_minor": 2
}
