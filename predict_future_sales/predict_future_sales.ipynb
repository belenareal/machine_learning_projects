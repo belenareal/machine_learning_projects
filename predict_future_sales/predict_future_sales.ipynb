{
 "cells": [
  {
   "cell_type": "markdown",
   "metadata": {},
   "source": [
    "### Predict Future Sales"
   ]
  },
  {
   "cell_type": "markdown",
   "metadata": {},
   "source": [
    "#### Dataset Description\n",
    "\n",
    "You are provided with daily historical sales data. The task is to forecast the total amount of products sold in every shop for the test set. Note that the list of shops and products slightly changes every month. Creating a robust model that can handle such situations is part of the challenge.\n",
    "\n",
    "##### File descriptions\n",
    "* sales_train.csv - the training set. Daily historical data from January 2013 to October 2015.\n",
    "* test.csv - the test set. You need to forecast the sales for these shops and products for November 2015.\n",
    "* sample_submission.csv - a sample submission file in the correct format.\n",
    "* items.csv - supplemental information about the items/products.\n",
    "* item_categories.csv  - supplemental information about the items categories.\n",
    "* shops.csv- supplemental information about the shops.\n",
    "\n",
    "##### Data fields\n",
    "* ID - an Id that represents a (Shop, Item) tuple within the test set\n",
    "* shop_id - unique identifier of a shop\n",
    "* item_id - unique identifier of a product\n",
    "* item_category_id - unique identifier of item category\n",
    "* item_cnt_day - number of products sold. You are predicting a monthly amount of this measure\n",
    "* item_price - current price of an item\n",
    "* date - date in format dd/mm/yyyy\n",
    "* date_block_num - a consecutive month number, used for convenience. January 2013 is 0, February 2013 is 1,..., October 2015 is 33\n",
    "* item_name - name of item\n",
    "* shop_name - name of shop\n",
    "* item_category_name - name of item category"
   ]
  },
  {
   "cell_type": "markdown",
   "metadata": {},
   "source": [
    "-----------------------------------------------------------\n",
    "#### Descripción del conjunto de datos\n",
    "\n",
    "Se le proporcionan datos históricos diarios de ventas. La tarea consiste en pronosticar la cantidad total de productos vendidos en cada tienda para el conjunto de prueba. Tenga en cuenta que la lista de tiendas y productos cambia ligeramente cada mes. Crear un modelo sólido que pueda manejar tales situaciones es parte del desafío.\n",
    "\n",
    "##### Descripciones de archivos\n",
    "* sales_train.csv: el conjunto de formación. Datos históricos diarios de enero de 2013 a octubre de 2015.\n",
    "* test.csv: el conjunto de prueba. Necesita pronosticar las ventas de estas tiendas y productos para noviembre de 2015.\n",
    "* sample_submission.csv: un archivo de envío de muestra en el formato correcto.\n",
    "* items.csv: información complementaria sobre los artículos/productos.\n",
    "* item_categories.csv: información complementaria sobre las categorías de artículos.\n",
    "*shops.csv- información complementaria sobre las tiendas.\n",
    "\n",
    "##### Campos de información\n",
    "* ID: un ID que representa una tupla (Tienda, Artículo) dentro del conjunto de prueba\n",
    "* shop_id - identificador único de una tienda\n",
    "* item_id - identificador único de un producto\n",
    "* item_category_id - identificador único de la categoría del artículo\n",
    "* item_cnt_day: número de productos vendidos. Estás pronosticando un monto mensual de esta medida.\n",
    "* item_price - precio actual de un artículo\n",
    "* fecha - fecha en formato dd/mm/aaaa\n",
    "* date_block_num: un número de mes consecutivo, utilizado por conveniencia. Enero de 2013 es 0, febrero de 2013 es 1,..., octubre de 2015 es 33\n",
    "* item_name - nombre del artículo\n",
    "* shop_name - nombre de la tienda\n",
    "* item_category_name - nombre de la categoría del artículo"
   ]
  }
 ],
 "metadata": {
  "language_info": {
   "name": "python"
  }
 },
 "nbformat": 4,
 "nbformat_minor": 2
}
