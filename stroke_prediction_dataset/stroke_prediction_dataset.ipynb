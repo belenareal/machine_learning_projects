{
 "cells": [
  {
   "cell_type": "markdown",
   "metadata": {},
   "source": [
    "## Stroke Prediction Dataset"
   ]
  },
  {
   "cell_type": "markdown",
   "metadata": {},
   "source": [
    "According to the World Health Organization (WHO) stroke is the 2nd leading cause of death globally, responsible for approximately 11% of total deaths.\n",
    "This dataset is used to predict whether a patient is likely to get stroke based on the input parameters like gender, age, various diseases, and smoking status. Each row in the data provides relavant information about the patient.\n",
    "\n",
    "##### Attribute Information\n",
    "1) id: unique identifier\n",
    "\n",
    "2) gender: \"Male\", \"Female\" or \"Other\"\n",
    "\n",
    "3) age: age of the patient\n",
    "\n",
    "4) hypertension: 0 if the patient doesn't have hypertension, 1 if the patient has hypertension\n",
    "\n",
    "5) heart_disease: 0 if the patient doesn't have any heart diseases, 1 if the patient has a heart disease\n",
    "\n",
    "6) ever_married: \"No\" or \"Yes\"\n",
    "\n",
    "7) work_type: \"children\", \"Govt_jov\", \"Never_worked\", \"Private\" or \"Self-employed\"\n",
    "\n",
    "8) Residence_type: \"Rural\" or \"Urban\"\n",
    "\n",
    "9) avg_glucose_level: average glucose level in blood\n",
    "\n",
    "10) bmi: body mass index\n",
    "\n",
    "11) smoking_status: \"formerly smoked\", \"never smoked\", \"smokes\" or \"Unknown\"*\n",
    "\n",
    "12) stroke: 1 if the patient had a stroke or 0 if not\n",
    "\n",
    "*Note: \"Unknown\" in smoking_status means that the information is unavailable for this patient"
   ]
  },
  {
   "cell_type": "markdown",
   "metadata": {},
   "source": [
    "-------------------\n",
    "Según la Organización Mundial de la Salud (OMS), el accidente cerebrovascular es la segunda causa de muerte a nivel mundial y es responsable de aproximadamente el 11% del total de muertes.\n",
    "Este conjunto de datos se utiliza para predecir si es probable que un paciente sufra un accidente cerebrovascular en función de parámetros de entrada como el sexo, la edad, diversas enfermedades y el tabaquismo. Cada fila de los datos proporciona información relevante sobre el paciente.\n",
    "\n",
    "##### Información del atributo\n",
    "1) id: identificador único\n",
    "\n",
    "2) género: \"Masculino\", \"Femenino\" u \"Otro\"\n",
    "\n",
    "3) edad: edad del paciente\n",
    "\n",
    "4) hipertensión: 0 si el paciente no tiene hipertensión, 1 si el paciente tiene hipertensión\n",
    "\n",
    "5) heart_disease: 0 si el paciente no tiene ninguna enfermedad cardíaca, 1 si el paciente tiene una enfermedad cardíaca\n",
    "\n",
    "6) ever_married: \"No\" o \"Sí\"\n",
    "\n",
    "7) tipo_trabajo: \"niños\", \"Govt_jov\", \"Never_worked\", \"Privado\" o \"Autónomo\"\n",
    "\n",
    "8) Tipo_residencia: \"Rural\" o \"Urbana\"\n",
    "\n",
    "9) avg_glucose_level: nivel promedio de glucosa en sangre\n",
    "\n",
    "10) IMC: índice de masa corporal\n",
    "\n",
    "11) smoke_status: \"anteriormente fumó\", \"nunca fumó\", \"fuma\" o \"Desconocido\"*\n",
    "\n",
    "12) ictus: 1 si el paciente tuvo un ictus o 0 si no\n",
    "\n",
    "*Nota: \"Desconocido\" en smoke_status significa que la información no está disponible para este paciente."
   ]
  }
 ],
 "metadata": {
  "language_info": {
   "name": "python"
  }
 },
 "nbformat": 4,
 "nbformat_minor": 2
}
